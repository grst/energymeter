{
 "cells": [
  {
   "cell_type": "code",
   "execution_count": 1,
   "metadata": {},
   "outputs": [
    {
     "ename": "ImportError",
     "evalue": "cannot import name 'ModbusTcpClient' from 'pymodbus.client' (/home/sturm/apps/micromamba/envs/energymeter/lib/python3.11/site-packages/pymodbus/client/__init__.py)",
     "output_type": "error",
     "traceback": [
      "\u001b[0;31m---------------------------------------------------------------------------\u001b[0m",
      "\u001b[0;31mImportError\u001b[0m                               Traceback (most recent call last)",
      "Cell \u001b[0;32mIn[1], line 1\u001b[0m\n\u001b[0;32m----> 1\u001b[0m \u001b[38;5;28;01mfrom\u001b[39;00m \u001b[38;5;21;01mpymodbus\u001b[39;00m\u001b[38;5;21;01m.\u001b[39;00m\u001b[38;5;21;01mclient\u001b[39;00m \u001b[38;5;28;01mimport\u001b[39;00m ModbusTcpClient\n",
      "\u001b[0;31mImportError\u001b[0m: cannot import name 'ModbusTcpClient' from 'pymodbus.client' (/home/sturm/apps/micromamba/envs/energymeter/lib/python3.11/site-packages/pymodbus/client/__init__.py)"
     ]
    }
   ],
   "source": [
    "from pymodbus.client import ModbusTcpClient"
   ]
  },
  {
   "cell_type": "code",
   "execution_count": 2,
   "metadata": {},
   "outputs": [
    {
     "ename": "NameError",
     "evalue": "name 'ModbusTcpClient' is not defined",
     "output_type": "error",
     "traceback": [
      "\u001b[0;31m---------------------------------------------------------------------------\u001b[0m",
      "\u001b[0;31mNameError\u001b[0m                                 Traceback (most recent call last)",
      "Cell \u001b[0;32mIn[2], line 1\u001b[0m\n\u001b[0;32m----> 1\u001b[0m client \u001b[38;5;241m=\u001b[39m \u001b[43mModbusTcpClient\u001b[49m(host\u001b[38;5;241m=\u001b[39m\u001b[38;5;124m'\u001b[39m\u001b[38;5;124m192.168.193.147\u001b[39m\u001b[38;5;124m'\u001b[39m)   \u001b[38;5;66;03m# Create client object\u001b[39;00m\n\u001b[1;32m      2\u001b[0m client\u001b[38;5;241m.\u001b[39mconnect()                           \u001b[38;5;66;03m# connect to device, reconnect automatically\u001b[39;00m\n",
      "\u001b[0;31mNameError\u001b[0m: name 'ModbusTcpClient' is not defined"
     ]
    }
   ],
   "source": [
    "client = ModbusTcpClient(host=\"192.168.193.147\")  # Create client object\n",
    "client.connect()  # connect to device, reconnect automatically"
   ]
  },
  {
   "cell_type": "code",
   "execution_count": 40,
   "metadata": {},
   "outputs": [],
   "source": [
    "result = client.read_holding_registers(42109, 1, unit=1)"
   ]
  },
  {
   "cell_type": "code",
   "execution_count": 41,
   "metadata": {},
   "outputs": [
    {
     "data": {
      "text/plain": [
       "{'transaction_id': 3,\n",
       " 'protocol_id': 0,\n",
       " 'slave_id': 0,\n",
       " 'skip_encode': False,\n",
       " 'check': 0,\n",
       " 'bits': [],\n",
       " 'registers': [],\n",
       " 'original_code': 3,\n",
       " 'function_code': 131,\n",
       " 'exception_code': 10}"
      ]
     },
     "execution_count": 41,
     "metadata": {},
     "output_type": "execute_result"
    }
   ],
   "source": [
    "result.__dict__"
   ]
  },
  {
   "cell_type": "code",
   "execution_count": 30,
   "metadata": {},
   "outputs": [
    {
     "data": {
      "text/plain": [
       "<pymodbus.pdu.ExceptionResponse at 0x7db2b8d09790>"
      ]
     },
     "execution_count": 30,
     "metadata": {},
     "output_type": "execute_result"
    }
   ],
   "source": [
    "result = client.read_holding_registers(30005, 1, unit=3)  # get information from dev\n",
    "result"
   ]
  },
  {
   "cell_type": "code",
   "execution_count": 26,
   "metadata": {},
   "outputs": [],
   "source": [
    "client.close()"
   ]
  },
  {
   "cell_type": "code",
   "execution_count": null,
   "metadata": {},
   "outputs": [],
   "source": []
  }
 ],
 "metadata": {
  "kernelspec": {
   "display_name": "Python 3",
   "language": "python",
   "name": "python3"
  },
  "language_info": {
   "codemirror_mode": {
    "name": "ipython",
    "version": 3
   },
   "file_extension": ".py",
   "mimetype": "text/x-python",
   "name": "python",
   "nbconvert_exporter": "python",
   "pygments_lexer": "ipython3",
   "version": "3.11.9"
  }
 },
 "nbformat": 4,
 "nbformat_minor": 2
}
